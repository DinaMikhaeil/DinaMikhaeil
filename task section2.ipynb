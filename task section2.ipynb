{
 "cells": [
  {
   "cell_type": "code",
   "execution_count": 7,
   "id": "88cd40c8",
   "metadata": {},
   "outputs": [
    {
     "name": "stdout",
     "output_type": "stream",
     "text": [
      "<?xml version=\"1.0\" encoding=\"UTF-8\"?>\n",
      "<bookstore>\n",
      "<book category=\"cooking\">\n",
      "<title lang=\"en\">Everyday Italian</title>\n",
      "<year>2005</year>\n",
      "<price>30.00</price>\n",
      "</book>\n",
      "<book category=\"children\">\n",
      "<title lang=\"en\">Harry Potter</title>\n",
      "<year>2005</year>\n",
      "<price>29.99</price>\n",
      "</book>\n",
      "<book category=\"web\">\n",
      "<title lang=\"en\">Learning XML</title>\n",
      "<year>2003</year>\n",
      "<price>39.95</price>\n",
      "</book>\n",
      "</bookstore>\n"
     ]
    }
   ],
   "source": [
    "with open(\"bookstore.xml\") as f:\n",
    "    for line in f:\n",
    "        print(line.strip())"
   ]
  },
  {
   "cell_type": "code",
   "execution_count": 18,
   "id": "4db37ce2",
   "metadata": {},
   "outputs": [
    {
     "name": "stdout",
     "output_type": "stream",
     "text": [
      "bookstore\n"
     ]
    }
   ],
   "source": [
    "import xml.etree.ElementTree as Et\n",
    "tree=Et.parse('bookstore.xml')\n",
    "root=tree.getroot()\n",
    "print(root.tag)"
   ]
  },
  {
   "cell_type": "code",
   "execution_count": 21,
   "id": "2bb572d1",
   "metadata": {},
   "outputs": [
    {
     "name": "stdout",
     "output_type": "stream",
     "text": [
      "book {'category': 'cooking'}\n",
      "book {'category': 'children'}\n",
      "book {'category': 'web'}\n"
     ]
    }
   ],
   "source": [
    "for child in root:\n",
    "    print(child.tag,child.attrib)"
   ]
  },
  {
   "cell_type": "code",
   "execution_count": 23,
   "id": "e4ccf035",
   "metadata": {},
   "outputs": [
    {
     "name": "stdout",
     "output_type": "stream",
     "text": [
      "29.99\n"
     ]
    }
   ],
   "source": [
    "print(root[1][2].text)"
   ]
  },
  {
   "cell_type": "code",
   "execution_count": 27,
   "id": "915c22de",
   "metadata": {},
   "outputs": [
    {
     "name": "stdout",
     "output_type": "stream",
     "text": [
      "title {'lang': 'en'}\n",
      "title {'lang': 'en'}\n",
      "title {'lang': 'en'}\n"
     ]
    }
   ],
   "source": [
    "for title in root.iter(\"title\"):\n",
    "    print(title.tag,title.attrib)"
   ]
  },
  {
   "cell_type": "code",
   "execution_count": 28,
   "id": "311e845e",
   "metadata": {},
   "outputs": [
    {
     "name": "stdout",
     "output_type": "stream",
     "text": [
      "2003\n"
     ]
    }
   ],
   "source": [
    "print(root[2][1].text)"
   ]
  },
  {
   "cell_type": "code",
   "execution_count": 29,
   "id": "7b3a58da",
   "metadata": {},
   "outputs": [],
   "source": [
    "file=open(\"t1.txt\",\"w\")\n",
    "file.write(\"hi world!!\")\n",
    "file.close()"
   ]
  },
  {
   "cell_type": "code",
   "execution_count": 30,
   "id": "84168672",
   "metadata": {},
   "outputs": [
    {
     "name": "stdout",
     "output_type": "stream",
     "text": [
      "hi world!!\n"
     ]
    }
   ],
   "source": [
    "file=open(\"t1.txt\",\"r\")\n",
    "print(file.read())\n",
    "file.close()"
   ]
  },
  {
   "cell_type": "code",
   "execution_count": 39,
   "id": "1bbfc4b2",
   "metadata": {},
   "outputs": [],
   "source": [
    "fi=open(\"binary.bin\",\"wb\")\n",
    "fi.write(b\"bhlfa;ue uhf\")\n",
    "fi.close()"
   ]
  },
  {
   "cell_type": "code",
   "execution_count": 41,
   "id": "a64294ea",
   "metadata": {},
   "outputs": [
    {
     "name": "stdout",
     "output_type": "stream",
     "text": [
      "b'bhl'\n"
     ]
    }
   ],
   "source": [
    "fi=open(\"binary.bin\",\"rb\")\n",
    "print(fi.read(3))\n",
    "fi.close()"
   ]
  },
  {
   "cell_type": "code",
   "execution_count": 47,
   "id": "5dc01273",
   "metadata": {},
   "outputs": [],
   "source": [
    "f=open(\"array.bin\",\"wb\")\n",
    "n=[1,2,225,5,85,7,9]\n",
    "arr=bytearray(n)\n",
    "f.write(arr)\n",
    "f.close()"
   ]
  },
  {
   "cell_type": "code",
   "execution_count": 49,
   "id": "7cb68962",
   "metadata": {},
   "outputs": [
    {
     "name": "stdout",
     "output_type": "stream",
     "text": [
      "[1, 2, 225, 5]\n"
     ]
    }
   ],
   "source": [
    "f=open(\"array.bin\",\"rb\")\n",
    "v=list(f.read(4))\n",
    "print(v)\n",
    "f.close()"
   ]
  },
  {
   "cell_type": "code",
   "execution_count": null,
   "id": "b916d5bc",
   "metadata": {},
   "outputs": [],
   "source": []
  }
 ],
 "metadata": {
  "kernelspec": {
   "display_name": "Python 3 (ipykernel)",
   "language": "python",
   "name": "python3"
  },
  "language_info": {
   "codemirror_mode": {
    "name": "ipython",
    "version": 3
   },
   "file_extension": ".py",
   "mimetype": "text/x-python",
   "name": "python",
   "nbconvert_exporter": "python",
   "pygments_lexer": "ipython3",
   "version": "3.9.7"
  }
 },
 "nbformat": 4,
 "nbformat_minor": 5
}
