{
 "cells": [
  {
   "cell_type": "code",
   "execution_count": 3,
   "id": "af768282",
   "metadata": {},
   "outputs": [
    {
     "name": "stdout",
     "output_type": "stream",
     "text": [
      "387.2481710527\n"
     ]
    }
   ],
   "source": [
    "from pyopenms import*\n",
    "myseq=AASequence.fromString(\"VAKA\")\n",
    "myfull=myseq.getMonoWeight()\n",
    "print(myfull)"
   ]
  },
  {
   "cell_type": "code",
   "execution_count": 10,
   "id": "da822cd8",
   "metadata": {},
   "outputs": [
    {
     "name": "stdout",
     "output_type": "stream",
     "text": [
      "441.2798662441\n"
     ]
    }
   ],
   "source": [
    "d=0\n",
    "for i in myseq:\n",
    "    d=i.getMonoWeight()+d\n",
    "print(d)"
   ]
  },
  {
   "cell_type": "code",
   "execution_count": 11,
   "id": "e74d0807",
   "metadata": {},
   "outputs": [
    {
     "name": "stdout",
     "output_type": "stream",
     "text": [
      "because during the bounding process ,water molecules are lost and the equivalent of each of them is 18 \n"
     ]
    }
   ],
   "source": [
    "print(\"because during the bounding process ,water molecules are lost and the equivalent of each of them is 18 \")"
   ]
  },
  {
   "cell_type": "code",
   "execution_count": null,
   "id": "57123234",
   "metadata": {},
   "outputs": [],
   "source": []
  }
 ],
 "metadata": {
  "kernelspec": {
   "display_name": "Python 3 (ipykernel)",
   "language": "python",
   "name": "python3"
  },
  "language_info": {
   "codemirror_mode": {
    "name": "ipython",
    "version": 3
   },
   "file_extension": ".py",
   "mimetype": "text/x-python",
   "name": "python",
   "nbconvert_exporter": "python",
   "pygments_lexer": "ipython3",
   "version": "3.9.7"
  }
 },
 "nbformat": 4,
 "nbformat_minor": 5
}
